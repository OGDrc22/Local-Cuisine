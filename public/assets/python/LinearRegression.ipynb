{
 "cells": [
  {
   "cell_type": "code",
   "execution_count": 6,
   "metadata": {},
   "outputs": [],
   "source": [
    "import mysql.connector\n",
    "from mysql.connector import Error\n",
    "import pandas as pd\n",
    "from sklearn.model_selection import train_test_split\n",
    "from sklearn.linear_model import LinearRegression\n",
    "from sklearn.metrics import mean_squared_error, r2_score\n",
    "\n",
    "def fetch_ratings():\n",
    "    try:\n",
    "        # Establish the database connection\n",
    "        connection = mysql.connector.connect(\n",
    "            host='127.0.0.1',  # Your database host\n",
    "            database='recipeBook',  # Your database name\n",
    "            user='root',  # Your database user\n",
    "            password=''  # Your database password\n",
    "        )\n",
    "\n",
    "        if connection.is_connected():\n",
    "            cursor = connection.cursor(dictionary=True)\n",
    "            cursor.execute(\"SELECT * FROM rating\")\n",
    "            ratings = cursor.fetchall()\n",
    "\n",
    "            print(\"Ratings data fetched successfully:\")\n",
    "            return ratings\n",
    "\n",
    "    except Error as e:\n",
    "        print(f\"Error: {e}\")\n",
    "        return []\n",
    "\n",
    "    finally:\n",
    "        if connection.is_connected():\n",
    "            cursor.close()\n",
    "            connection.close()\n",
    "            print(\"MySQL connection is closed\")\n",
    "\n",
    "        "
   ]
  },
  {
   "cell_type": "code",
   "execution_count": 10,
   "metadata": {},
   "outputs": [
    {
     "name": "stdout",
     "output_type": "stream",
     "text": [
      "Ratings data fetched successfully:\n",
      "MySQL connection is closed\n",
      "Model Mean Squared Error: 2.5453520837931527\n",
      "R2 Score: -1.1434543863521287\n",
      "Top recommendations:\n",
      "Book ID: 7, Predicted Rating: 5.055394431554523\n",
      "Book ID: 6, Predicted Rating: 4.778712296983758\n",
      "Book ID: 5, Predicted Rating: 4.502030162412993\n",
      "Book ID: 4, Predicted Rating: 4.225348027842227\n",
      "Book ID: 3, Predicted Rating: 3.9486658932714613\n",
      "Book ID: 2, Predicted Rating: 3.6719837587006956\n",
      "Book ID: 1, Predicted Rating: 3.39530162412993\n"
     ]
    }
   ],
   "source": [
    "def prepare_data(ratings):\n",
    "    df = pd.DataFrame(ratings)\n",
    "    df['user_id'] = df['user_id'].astype('category').cat.codes\n",
    "    df['book_id'] = df['book_id'].astype('category').cat.codes\n",
    "    return df\n",
    "\n",
    "def train_model(df):\n",
    "    X = df[['user_id', 'book_id']]\n",
    "    y = df['stars_rated']\n",
    "    X_train, X_test, y_train, y_test = train_test_split(X, y, test_size=0.2, random_state=42)\n",
    "    model = LinearRegression()\n",
    "    model.fit(X_train, y_train)\n",
    "    y_pred = model.predict(X_test)\n",
    "    mse = mean_squared_error(y_test, y_pred)\n",
    "    print(f\"Model Mean Squared Error: {mse}\")\n",
    "    r2 = r2_score(y_test, y_pred)\n",
    "    print(f\"R2 Score: {r2}\")\n",
    "    return model\n",
    "\n",
    "def make_recommendations(model, user_id, book_ids):\n",
    "    user_book_pairs = [(user_id, book_id) for book_id in book_ids]\n",
    "    df = pd.DataFrame(user_book_pairs, columns=['user_id', 'book_id'])\n",
    "    df['user_id'] = df['user_id'].astype('category').cat.codes\n",
    "    df['book_id'] = df['book_id'].astype('category').cat.codes\n",
    "    predictions = model.predict(df)\n",
    "    recommendations = sorted(zip(book_ids, predictions), key=lambda x: x[1], reverse=True)\n",
    "    return recommendations\n",
    "\n",
    "# if __name__ == \"__main__\":\n",
    "ratings = fetch_ratings()\n",
    "if ratings:\n",
    "    df = prepare_data(ratings)\n",
    "    model = train_model(df)\n",
    "    user_id = 1  # Example user ID\n",
    "    book_ids = 1 + df['book_id'].unique()\n",
    "    recommendations = make_recommendations(model, user_id, book_ids)\n",
    "    print(\"Top recommendations:\")\n",
    "    for book_id, score in recommendations[:10]:\n",
    "        print(f\"Book ID: {book_id}, Predicted Rating: {score}\")"
   ]
  }
 ],
 "metadata": {
  "kernelspec": {
   "display_name": "Python 3",
   "language": "python",
   "name": "python3"
  },
  "language_info": {
   "codemirror_mode": {
    "name": "ipython",
    "version": 3
   },
   "file_extension": ".py",
   "mimetype": "text/x-python",
   "name": "python",
   "nbconvert_exporter": "python",
   "pygments_lexer": "ipython3",
   "version": "3.12.5"
  }
 },
 "nbformat": 4,
 "nbformat_minor": 2
}
